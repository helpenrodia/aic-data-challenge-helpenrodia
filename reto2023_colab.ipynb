{
  "nbformat": 4,
  "nbformat_minor": 0,
  "metadata": {
    "colab": {
      "provenance": []
    },
    "kernelspec": {
      "name": "python3",
      "display_name": "Python 3"
    },
    "language_info": {
      "name": "python"
    }
  },
  "cells": [
    {
      "cell_type": "code",
      "execution_count": 15,
      "metadata": {
        "id": "85B14zjMOerq"
      },
      "outputs": [],
      "source": [
        "# Import the necesary library\n",
        "import pandas as pd # For all DataFrames functions\n",
        "from collections import Counter\n",
        "import matplotlib.pyplot as plt"
      ]
    },
    {
      "cell_type": "code",
      "source": [
        "!pip install unidecode"
      ],
      "metadata": {
        "colab": {
          "base_uri": "https://localhost:8080/"
        },
        "id": "67toIq7NOpRO",
        "outputId": "ded7ad5a-725c-4ae7-c56f-f73ac3049c7c"
      },
      "execution_count": 2,
      "outputs": [
        {
          "output_type": "stream",
          "name": "stdout",
          "text": [
            "Requirement already satisfied: unidecode in /usr/local/lib/python3.10/dist-packages (1.3.7)\n"
          ]
        }
      ]
    },
    {
      "cell_type": "code",
      "source": [
        "from unidecode import unidecode # Necessary to Remove the accents"
      ],
      "metadata": {
        "id": "bBk6ZPrAPFHW"
      },
      "execution_count": 3,
      "outputs": []
    },
    {
      "cell_type": "code",
      "source": [
        "def modify_df(temp_df):\n",
        "  # This function will remove the accent from listed columns. After that, it fix the column type\n",
        "  str_columns = ['Nomestado','Nomddr','Nomcader','Nommunicipio','Nomcicloproductivo',\n",
        "  'Nommodalidad','Nomunidad','Nomcultivo']\n",
        "  for col in str_columns:\n",
        "      for index, row in temp_df.iterrows(): temp_df.at[index,col] = unidecode(row[col])\n",
        "  return temp_df.convert_dtypes()"
      ],
      "metadata": {
        "id": "xcINa12fPXo4"
      },
      "execution_count": 4,
      "outputs": []
    },
    {
      "cell_type": "code",
      "source": [
        "# Here I import the data and concat all the information in a single DataFrame called df_agric\n",
        "link_path = 'http://infosiap.siap.gob.mx/gobmx/datosAbiertos/ProduccionAgricola/'\n",
        "df_agric = pd.DataFrame()\n",
        "resumen = pd.DataFrame()\n",
        "for year_number in range(2017,2023):\n",
        "  # I add this check because the path format changes after 2021\n",
        "    if year_number<2021:\n",
        "      complete_path = link_path + 'Cierre_agricola_mun_' + str(year_number) + '.csv'\n",
        "    else:\n",
        "      complete_path = link_path + 'Cierre_agr_mun_' + str(year_number) + '.csv'\n",
        "    temp_df = pd.read_csv(complete_path,encoding='latin1')\n",
        "    temp_df.columns = ['Anno','Idestado','Nomestado','Idddr','Nomddr','Idcader','Nomcader',\n",
        "                       'Idmunicipio','Nommunicipio','Idciclo','Nomcicloproductivo',\n",
        "                       'Idmodalidad','Nommodalidad','Idunidadmedidad','Nomunidad',\n",
        "                       'Idcultivo','Nomcultivo','Sembrada','Cosechada','Siniestrada',\n",
        "                       'Volumenproduccion','Rendimiento','Precio','Valorproduccion']\n",
        "    temp_df = modify_df(temp_df)\n",
        "    df_agric = pd.concat([df_agric,temp_df],ignore_index=True)\n",
        "    resume_temp = temp_df.pivot_table(index=['Anno','Nomestado','Nommunicipio'],values=\n",
        "    ['Sembrada','Cosechada','Siniestrada','Volumenproduccion','Precio','Valorproduccion'])\n",
        "    resumen = pd.concat([resumen,resume_temp])"
      ],
      "metadata": {
        "colab": {
          "base_uri": "https://localhost:8080/"
        },
        "id": "pPQsQM02PKEa",
        "outputId": "3289a939-6a08-4d4b-abc5-57eedf534500"
      },
      "execution_count": 12,
      "outputs": [
        {
          "output_type": "stream",
          "name": "stderr",
          "text": [
            "<ipython-input-12-3007da3de848>:19: FutureWarning: pivot_table dropped a column because it failed to aggregate. This behavior is deprecated and will raise in a future version of pandas. Select only the columns that can be aggregated.\n",
            "  resume_temp = temp_df.pivot_table(index=['Anno','Nomestado','Nommunicipio'],values=\n",
            "<ipython-input-12-3007da3de848>:11: DtypeWarning: Columns (20) have mixed types. Specify dtype option on import or set low_memory=False.\n",
            "  temp_df = pd.read_csv(complete_path,encoding='latin1')\n",
            "<ipython-input-12-3007da3de848>:19: FutureWarning: pivot_table dropped a column because it failed to aggregate. This behavior is deprecated and will raise in a future version of pandas. Select only the columns that can be aggregated.\n",
            "  resume_temp = temp_df.pivot_table(index=['Anno','Nomestado','Nommunicipio'],values=\n"
          ]
        }
      ]
    },
    {
      "cell_type": "code",
      "source": [
        "df_agric.info()"
      ],
      "metadata": {
        "colab": {
          "base_uri": "https://localhost:8080/"
        },
        "id": "TgbklXLjRmb8",
        "outputId": "8013b7da-c39a-4601-aaff-f546dff58e26"
      },
      "execution_count": 13,
      "outputs": [
        {
          "output_type": "stream",
          "name": "stdout",
          "text": [
            "<class 'pandas.core.frame.DataFrame'>\n",
            "RangeIndex: 205201 entries, 0 to 205200\n",
            "Data columns (total 24 columns):\n",
            " #   Column              Non-Null Count   Dtype  \n",
            "---  ------              --------------   -----  \n",
            " 0   Anno                205201 non-null  Int64  \n",
            " 1   Idestado            205201 non-null  Int64  \n",
            " 2   Nomestado           205201 non-null  string \n",
            " 3   Idddr               205201 non-null  Int64  \n",
            " 4   Nomddr              205201 non-null  string \n",
            " 5   Idcader             205201 non-null  Int64  \n",
            " 6   Nomcader            205201 non-null  string \n",
            " 7   Idmunicipio         205201 non-null  Int64  \n",
            " 8   Nommunicipio        205201 non-null  string \n",
            " 9   Idciclo             205201 non-null  Int64  \n",
            " 10  Nomcicloproductivo  205201 non-null  string \n",
            " 11  Idmodalidad         205201 non-null  Int64  \n",
            " 12  Nommodalidad        205201 non-null  string \n",
            " 13  Idunidadmedidad     205201 non-null  Int64  \n",
            " 14  Nomunidad           205201 non-null  string \n",
            " 15  Idcultivo           205201 non-null  Int64  \n",
            " 16  Nomcultivo          205201 non-null  string \n",
            " 17  Sembrada            205201 non-null  object \n",
            " 18  Cosechada           205201 non-null  Float64\n",
            " 19  Siniestrada         205201 non-null  Float64\n",
            " 20  Volumenproduccion   205201 non-null  object \n",
            " 21  Rendimiento         205201 non-null  Float64\n",
            " 22  Precio              205201 non-null  Float64\n",
            " 23  Valorproduccion     205201 non-null  Float64\n",
            "dtypes: Float64(5), Int64(9), object(2), string(8)\n",
            "memory usage: 40.3+ MB\n"
          ]
        }
      ]
    },
    {
      "cell_type": "code",
      "source": [
        "resumen.info()"
      ],
      "metadata": {
        "colab": {
          "base_uri": "https://localhost:8080/"
        },
        "id": "hseLyVHOSHNT",
        "outputId": "7efcddc7-be03-46f6-e8e1-08ec2d976740"
      },
      "execution_count": 14,
      "outputs": [
        {
          "output_type": "stream",
          "name": "stdout",
          "text": [
            "<class 'pandas.core.frame.DataFrame'>\n",
            "MultiIndex: 14607 entries, (2017, 'Aguascalientes', 'Aguascalientes') to (2022, 'Zacatecas', 'Zacatecas')\n",
            "Data columns (total 6 columns):\n",
            " #   Column             Non-Null Count  Dtype  \n",
            "---  ------             --------------  -----  \n",
            " 0   Cosechada          14607 non-null  Float64\n",
            " 1   Precio             14607 non-null  Float64\n",
            " 2   Sembrada           12173 non-null  Float64\n",
            " 3   Siniestrada        14607 non-null  Float64\n",
            " 4   Valorproduccion    14607 non-null  Float64\n",
            " 5   Volumenproduccion  12163 non-null  Float64\n",
            "dtypes: Float64(6)\n",
            "memory usage: 911.6+ KB\n"
          ]
        }
      ]
    },
    {
      "cell_type": "code",
      "source": [
        "# I will create a function that extract the top 10 elements from a list\n",
        "def top_10(lista):\n",
        "    #Counting the number of each type in \"lista\". It returns a dictionary\n",
        "    clase_count = Counter(lista)\n",
        "    # Sorting the dictionary by the values\n",
        "    sorted_clases = sorted(clase_count.items(),key=lambda x:x[1])\n",
        "    # Obtain the 10 largest values\n",
        "    sorted_firsts=dict(sorted_clases[-10:])\n",
        "    return sorted_firsts"
      ],
      "metadata": {
        "id": "uWtalRbiFS_H"
      },
      "execution_count": 21,
      "outputs": []
    },
    {
      "cell_type": "markdown",
      "source": [
        "**Principales Cultivos**"
      ],
      "metadata": {
        "id": "2weOAe6UoS2F"
      }
    },
    {
      "cell_type": "code",
      "source": [
        "principales_cultivos = top_10(df_agric['Nomcultivo'])\n",
        "principales_cultivos"
      ],
      "metadata": {
        "colab": {
          "base_uri": "https://localhost:8080/"
        },
        "id": "pM4HgF0IoW_E",
        "outputId": "ca575a6d-dfeb-4508-ce04-d64aba037ec9"
      },
      "execution_count": 22,
      "outputs": [
        {
          "output_type": "execute_result",
          "data": {
            "text/plain": [
              "{'Calabacita': 4417,\n",
              " 'Alfalfa verde': 4521,\n",
              " 'Tomate verde': 4603,\n",
              " 'Chile verde': 5266,\n",
              " 'Pastos y praderas': 5589,\n",
              " 'Sorgo grano': 5916,\n",
              " 'Tomate rojo (jitomate)': 7401,\n",
              " 'Avena forrajera en verde': 9048,\n",
              " 'Frijol': 16955,\n",
              " 'Maiz grano': 27668}"
            ]
          },
          "metadata": {},
          "execution_count": 22
        }
      ]
    },
    {
      "cell_type": "code",
      "source": [
        "# Preparing the graphic\n",
        "xvalues = principales_cultivos.keys()\n",
        "yvalues = principales_cultivos.values()\n",
        "\n",
        "fig = plt.figure()\n",
        "plt.bar(xvalues,yvalues)\n",
        "plt.xticks(range(len(xvalues)), xvalues,rotation=90)\n",
        "plt.ylabel('Cultivos')\n",
        "plt.title('Top 10 de los Principales Cultivos a Nivel Nacional')\n",
        "plt.show()"
      ],
      "metadata": {
        "colab": {
          "base_uri": "https://localhost:8080/",
          "height": 611
        },
        "id": "34euYrqRozYY",
        "outputId": "35b5b9e2-a3a3-4ba9-9905-220362f9ab13"
      },
      "execution_count": 24,
      "outputs": [
        {
          "output_type": "display_data",
          "data": {
            "text/plain": [
              "<Figure size 640x480 with 1 Axes>"
            ],
            "image/png": "[encoded data removed]"
          },
          "metadata": {}
        }
      ]
    },
    {
      "cell_type": "code",
      "source": [],
      "metadata": {
        "id": "iIWWUFPAputF"
      },
      "execution_count": null,
      "outputs": []
    }
  ]
}